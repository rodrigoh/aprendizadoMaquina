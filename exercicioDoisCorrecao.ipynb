{
 "cells": [
  {
   "cell_type": "markdown",
   "id": "fa69a035-1184-471f-a4ee-bee43dd77995",
   "metadata": {},
   "source": [
    "##### Exercício para avaliar o impacto de cada uma das variáveis sobre o resultado"
   ]
  },
  {
   "cell_type": "code",
   "execution_count": 13,
   "id": "03db63c9-cefe-40ab-a2b7-e077ab35e757",
   "metadata": {},
   "outputs": [
    {
     "name": "stdout",
     "output_type": "stream",
     "text": [
      "Teste: ['TV', 'Radio', 'Newspaper']\n",
      "Performance: 1.3570956388868882\n",
      "Teste: ['TV', 'Radio']\n",
      "Performance: 1.3549049897062917\n",
      "Teste: ['TV', 'Newspaper']\n",
      "Performance: 1.9214277085717903\n",
      "Teste: ['Radio', 'Newspaper']\n",
      "Performance: 4.883915543206654\n"
     ]
    }
   ],
   "source": [
    "# imports\n",
    "import pandas as pd\n",
    "import numpy as np\n",
    "from sklearn.model_selection import train_test_split\n",
    "from sklearn.linear_model import LinearRegression\n",
    "from sklearn import metrics\n",
    "#Importando o banco de dados\n",
    "publi = pd.read_csv('dados/advertising.csv')\n",
    "# Listas de testes\n",
    "testes = [['TV','Radio','Newspaper'],['TV','Radio'],['TV','Newspaper'],['Radio','Newspaper']]\n",
    "vencedor = {'teste':'', 'performance':None}\n",
    "for teste in testes:\n",
    "    # Observações\n",
    "    x = publi[teste]\n",
    "    # Variável alvo\n",
    "    y = publi['Sales']\n",
    "    # Separando o conjunto de dados em treino e teste\n",
    "    #random_state=5 faz com que mesmo que seja realizado um random ele mantenha os valores a cada execução\n",
    "    #com ele faremos os testes com os mesmos registros, mesmo removendo uma variável\n",
    "    x_train, x_test, y_train, y_test = train_test_split(x, y, test_size=0.3, random_state=5)\n",
    "    # Criando a instância do modelo Regressão Linear\n",
    "    reglin = LinearRegression()\n",
    "    # Treinando o modelo\n",
    "    reglin.fit(x_train, y_train)\n",
    "    # Realizando as previsões\n",
    "    y_prev = reglin.predict(x_test)\n",
    "    # Avaliando o modelo com RMSE\n",
    "    rmse = np.sqrt(metrics.mean_squared_error(y_test, y_prev))\n",
    "    print('Teste:', teste)\n",
    "    print('Performance:',rmse)\n",
    "    \n",
    "    "
   ]
  }
 ],
 "metadata": {
  "kernelspec": {
   "display_name": "Python 3 (ipykernel)",
   "language": "python",
   "name": "python3"
  },
  "language_info": {
   "codemirror_mode": {
    "name": "ipython",
    "version": 3
   },
   "file_extension": ".py",
   "mimetype": "text/x-python",
   "name": "python",
   "nbconvert_exporter": "python",
   "pygments_lexer": "ipython3",
   "version": "3.12.3"
  }
 },
 "nbformat": 4,
 "nbformat_minor": 5
}
